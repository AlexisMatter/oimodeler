{
 "cells": [
  {
   "cell_type": "markdown",
   "id": "67ab4f2e-390a-40df-821e-0d46b6162fd3",
   "metadata": {},
   "source": [
    "# Exercise 6: Radiative Transfer model of FS CMa\n",
    "\n",
    "The **oimodeler** package contains a specific class, **oimComponentFitsImage**, to import precomputed images or hyperspectral image-cubes such as outputs from radiative-transfer models in a fits-image format. The loaded image can be shifted, rotated and scaled if necessary and will behave as a component with\n",
    "five parameters: positions x and y, flux (f), position angle (pa) and scale.\n",
    "\n",
    "In this example we will load one image-cube created with the radiative transfer code [RADMC3D](https://www.ita.uni-heidelberg.de/~dullemond/software/radmc-3d/) as part of the [2021 VLTI School Radiative Transfer practice session](http://www.jmmc.fr/schools/vltischool2021/Radiative%20transfer%20e2e2c101.html)\n",
    "\n",
    "The aim of the session was to produce a model that would reasonably fit MATISSE observations of the B[e] star FS CMa published in [Hofmann et al. 2022](https://ui.adsabs.harvard.edu/abs/2022A%26A...658A..81H/abstract)\n",
    "\n",
    "You can download and install: \n",
    "- the image-cube named **radmc3d_model.fits**\n",
    "- the data : 3 files named **2018-12-XXTXXXXXX_HD45677_A0B2D0C1_IR-LM_LOW_Chop_cal_oifits_0.fits**\n",
    "\n",
    "### Importing libraries, setting the paths, and loading the data"
   ]
  },
  {
   "cell_type": "code",
   "execution_count": null,
   "id": "c8a9fe2e-2c56-4c5b-99cd-e8e367ec75b0",
   "metadata": {
    "lines_to_next_cell": 0
   },
   "outputs": [],
   "source": [
    "import oimodeler as oim\n",
    "import matplotlib.pyplot as plt \n",
    "import matplotlib.colors as colors\n",
    "\n",
    "from pathlib import Path\n",
    "dir0 = Path(\"C:\\\\Travail\\\\Cours et TP\\\\VLTI2024\\\\OIDATA\\\\data\\\\oifits\\\\FSCMa_MATISSE\\\\\") \n",
    "filenames = list(dir0.glob(\"*.fits\"))\n",
    "data = oim.oimData(filenames)\n",
    "\n",
    "dirmodel=Path(\"C:\\\\Travail\\\\Cours et TP\\\\VLTI2024\\\\OIMODELER\\\\modelsRT\\\\\")\n",
    "\n",
    "image_filename = dirmodel / \"radmc3d_model.fits\""
   ]
  },
  {
   "cell_type": "markdown",
   "id": "3199db59-be4a-441f-b211-45b0384dd2bf",
   "metadata": {},
   "source": [
    "### Buliding a model with the image-cube from RADMC3D "
   ]
  },
  {
   "cell_type": "code",
   "execution_count": null,
   "id": "5fd57721-70b3-423a-82e5-0ec0fba25468",
   "metadata": {},
   "outputs": [],
   "source": [
    "cim = oim.oimComponentFitsImage(image_filename,useinternalPA=False)\n",
    "model = oim.oimModel(cim)\n",
    "\n",
    "cim.params['f'].free=False"
   ]
  },
  {
   "cell_type": "markdown",
   "id": "62884df3-f5af-4cd8-bae3-a792f8f8c240",
   "metadata": {},
   "source": [
    "### The model has two free parameters:\n",
    "- **pa**: the position angle \n",
    "- **scale**: a scaling factor \n"
   ]
  },
  {
   "cell_type": "code",
   "execution_count": null,
   "id": "5b885c7f-89ac-4d43-9d9a-83415004b3c9",
   "metadata": {},
   "outputs": [],
   "source": [
    "model.getFreeParameters()"
   ]
  },
  {
   "cell_type": "markdown",
   "id": "71ee7fd1-4635-4c4f-bba7-30ffb5d22432",
   "metadata": {},
   "source": [
    "### Removing zero-padding for faster computation of the FFT\n",
    "\n",
    "Zero-padding enhances the quality of Fast-Fourier-Transform but significantly increases the computation time.\n",
    "\n",
    "For an object with a sharp outer edge that fills the field of view (image size) a factor of 4 should be applied.\n",
    "\n",
    "In our case the outer edge is not very sharp and the object is much smaller than the field of view of our image so we decided to keep the original image size."
   ]
  },
  {
   "cell_type": "code",
   "execution_count": null,
   "id": "3eaffe6d-220f-43d9-a69c-bd10e3ed66aa",
   "metadata": {},
   "outputs": [],
   "source": [
    "oim.oimOptions.ft.padding = 1"
   ]
  },
  {
   "cell_type": "markdown",
   "id": "d83f1d72-269c-4bfd-8804-3468b1e39807",
   "metadata": {},
   "source": [
    "### Building a $\\chi^2_r$ grid to explore the parameters space"
   ]
  },
  {
   "cell_type": "code",
   "execution_count": null,
   "id": "fc69d2ab-b0f1-4231-a2d0-156e6184cc57",
   "metadata": {},
   "outputs": [],
   "source": [
    "grid=oim.oimFitterRegularGrid(data,model,dataTypes=[\"VIS2DATA\",\"T3PHI\"])\n",
    "grid.prepare(steps=[10,0.1],min=[-180,0.5],max=[180,3],params=[cim.params[\"pa\"],cim.params[\"scale\"]])\n",
    "grid.run()"
   ]
  },
  {
   "cell_type": "markdown",
   "id": "bfe0b1bf-a487-42d3-8c7a-029592f2ea51",
   "metadata": {},
   "source": [
    "### Printing the results and plotting the $\\chi^2_r$ map"
   ]
  },
  {
   "cell_type": "code",
   "execution_count": null,
   "id": "2f8fa78c-7423-4620-84ce-84a689d5a39e",
   "metadata": {},
   "outputs": [],
   "source": [
    "grid.printResults()\n",
    "fig,ax=grid.plotMap(norm=colors.LogNorm())"
   ]
  },
  {
   "cell_type": "markdown",
   "id": "f2597528-b300-40a5-9812-96497359efd3",
   "metadata": {},
   "source": [
    "### Using simple minimization fitter to converge to the minimum below the grid step size\n"
   ]
  },
  {
   "cell_type": "code",
   "execution_count": null,
   "id": "d689ccca-20d2-4e51-afe4-0de62c52eb37",
   "metadata": {},
   "outputs": [],
   "source": [
    "miniz = oim.oimFitterMinimize(data, model,dataTypes=[\"VIS2DATA\",\"T3PHI\"])\n",
    "miniz.prepare()\n",
    "miniz.run()\n",
    "miniz.printResults()"
   ]
  },
  {
   "cell_type": "markdown",
   "id": "1f7fcca5-57f1-4d39-abe3-5f60fae0190b",
   "metadata": {},
   "source": [
    "### Printing and plotting results"
   ]
  },
  {
   "cell_type": "code",
   "execution_count": null,
   "id": "d18baa70-91a2-40e0-afc9-f79317526db9",
   "metadata": {},
   "outputs": [],
   "source": [
    "figSim,axSim = miniz.simulator.plot([\"VIS2DATA\",\"T3PHI\"])\n",
    "axSim[0].set_yscale(\"log\")\n",
    "axSim[0].set_ylim(1e-4,1)\n",
    "axSim[0].set_xlim(left=0)\n",
    "axSim[1].set_xlim(left=0)"
   ]
  },
  {
   "cell_type": "markdown",
   "id": "e0f11aaa-eb93-40a5-9eb9-120c50cc6822",
   "metadata": {},
   "source": [
    "### Plotting the best model images"
   ]
  },
  {
   "cell_type": "code",
   "execution_count": null,
   "id": "13b35efd-7101-421b-96b0-2e1525e24c82",
   "metadata": {},
   "outputs": [],
   "source": [
    "figim, axim, im = model.showModel(128,1,wl=[3e-6,4e-6],legend=True)"
   ]
  },
  {
   "cell_type": "markdown",
   "id": "f8cbc41c-dff0-43eb-be58-553b71023d35",
   "metadata": {},
   "source": [
    "#### **Question: Compare your results to those of the [Hofmann et al. 2022](https://ui.adsabs.harvard.edu/abs/2022A%26A...658A..81H/abstract)**"
   ]
  },
  {
   "cell_type": "raw",
   "id": "a30f82e8-98f4-4cc0-9187-b8e4b6459f69",
   "metadata": {},
   "source": [
    "#ANSWER HERE"
   ]
  }
 ],
 "metadata": {
  "jupytext": {
   "cell_metadata_filter": "-all",
   "notebook_metadata_filter": "-all"
  },
  "kernelspec": {
   "display_name": "Python 3 (ipykernel)",
   "language": "python",
   "name": "python3"
  },
  "language_info": {
   "codemirror_mode": {
    "name": "ipython",
    "version": 3
   },
   "file_extension": ".py",
   "mimetype": "text/x-python",
   "name": "python",
   "nbconvert_exporter": "python",
   "pygments_lexer": "ipython3",
   "version": "3.11.5"
  }
 },
 "nbformat": 4,
 "nbformat_minor": 5
}
