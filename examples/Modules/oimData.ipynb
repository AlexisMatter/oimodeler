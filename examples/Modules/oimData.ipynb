{
 "cells": [
  {
   "cell_type": "markdown",
   "id": "9a4c4470-23d3-4cf9-9cf1-7c55cbeb1816",
   "metadata": {
    "editable": true,
    "slideshow": {
     "slide_type": ""
    },
    "tags": []
   },
   "source": [
    "# The OimData object"
   ]
  },
  {
   "cell_type": "code",
   "execution_count": 22,
   "id": "08606d2b-92ee-4cdb-b40a-a00cd7ea2fd7",
   "metadata": {
    "editable": true,
    "slideshow": {
     "slide_type": ""
    },
    "tags": [
     "hide-cell"
    ]
   },
   "outputs": [],
   "source": [
    "from pathlib import Path\n",
    "import os\n",
    "import oimodeler as oim\n",
    "\n",
    "path = Path(os.getcwd()).parent.parent\n",
    "data_dir = path / \"data\" / \"FSCMa_MATISSE\"\n",
    "\n",
    "files = list(data_dir.glob(\"*.fits\"))\n",
    "data = oim.oimData(files)"
   ]
  },
  {
   "cell_type": "markdown",
   "id": "c86d1bc1-b192-4297-8ffd-52563761bc8d",
   "metadata": {
    "editable": true,
    "slideshow": {
     "slide_type": ""
    },
    "tags": []
   },
   "source": [
    "In oimodeler, data are stored in a [oimData](./oimData.html#oimodeler.oimData.oimData) object. Other modules that requires access to data such as the :func:`oimSimulator <oimodeler.oimSimulator.oimSimulator>` and :func:`oimFitter <oimodeler.oimFitter.oimFitter>` are working with an instance of :func:`oimData <oimodeler.oimData.oimData>`. \n",
    "\n",
    "The OIFITS data, stored in a list of ``astropy.io.fits.hdulist``, can be accessed using the ``oimData.data`` attribute."
   ]
  },
  {
   "cell_type": "code",
   "execution_count": 18,
   "id": "918aaade-5434-4e97-bd18-7d3c31f48b44",
   "metadata": {
    "editable": true,
    "slideshow": {
     "slide_type": ""
    },
    "tags": []
   },
   "outputs": [
    {
     "data": {
      "text/plain": [
       "[[<astropy.io.fits.hdu.image.PrimaryHDU object at 0x000002667FD8B6D0>, <astropy.io.fits.hdu.table.BinTableHDU object at 0x000002667FF65090>, <astropy.io.fits.hdu.table.BinTableHDU object at 0x000002667FF6FBD0>, <astropy.io.fits.hdu.table.BinTableHDU object at 0x0000026600003E90>, <astropy.io.fits.hdu.table.BinTableHDU object at 0x000002660000B850>, <astropy.io.fits.hdu.table.BinTableHDU object at 0x00000266000030D0>, <astropy.io.fits.hdu.table.BinTableHDU object at 0x0000026600031510>, <astropy.io.fits.hdu.table.BinTableHDU object at 0x000002660000BE10>],\n",
       " [<astropy.io.fits.hdu.image.PrimaryHDU object at 0x000002667FE2D450>, <astropy.io.fits.hdu.table.BinTableHDU object at 0x00000266000572D0>, <astropy.io.fits.hdu.table.BinTableHDU object at 0x000002660005C310>, <astropy.io.fits.hdu.table.BinTableHDU object at 0x0000026600061950>, <astropy.io.fits.hdu.table.BinTableHDU object at 0x00000266000692D0>, <astropy.io.fits.hdu.table.BinTableHDU object at 0x000002660007FFD0>, <astropy.io.fits.hdu.table.BinTableHDU object at 0x00000266000621D0>, <astropy.io.fits.hdu.table.BinTableHDU object at 0x000002660000A250>],\n",
       " [<astropy.io.fits.hdu.image.PrimaryHDU object at 0x000002667FEC2BD0>, <astropy.io.fits.hdu.table.BinTableHDU object at 0x00000266000B5A50>, <astropy.io.fits.hdu.table.BinTableHDU object at 0x00000266000C8090>, <astropy.io.fits.hdu.table.BinTableHDU object at 0x00000266000D42D0>, <astropy.io.fits.hdu.table.BinTableHDU object at 0x00000266000D7C10>, <astropy.io.fits.hdu.table.BinTableHDU object at 0x00000266000685D0>, <astropy.io.fits.hdu.table.BinTableHDU object at 0x00000266000B5C10>, <astropy.io.fits.hdu.table.BinTableHDU object at 0x0000026600108350>]]"
      ]
     },
     "execution_count": 18,
     "metadata": {},
     "output_type": "execute_result"
    }
   ],
   "source": [
    "data.data"
   ]
  },
  {
   "cell_type": "markdown",
   "id": "c1a957ce-4bc2-4780-b113-ef96373887c5",
   "metadata": {
    "editable": true,
    "slideshow": {
     "slide_type": ""
    },
    "tags": []
   },
   "source": [
    "data.data is a list of hdulist"
   ]
  },
  {
   "cell_type": "code",
   "execution_count": 6,
   "id": "75201803-b442-4b49-b875-f706bb47acb4",
   "metadata": {},
   "outputs": [
    {
     "name": "stdout",
     "output_type": "stream",
     "text": [
      "════════════════════════════════════════════════════════════════════════════════\n",
      "file 0: 2018-12-07T063809_HD45677_A0B2D0C1_IR-LM_LOW_Chop_cal_oifits_0.fits\n",
      "────────────────────────────────────────────────────────────────────────────────\n",
      "4)\t OI_VIS2 :\t (nB,nλ) = (6, 64) \t dataTypes = ['VIS2DATA']\n",
      "5)\t OI_T3   :\t (nB,nλ) = (4, 64) \t dataTypes = ['T3PHI']\n",
      "6)\t OI_VIS  :\t (nB,nλ) = (6, 64) \t dataTypes = ['VISAMP', 'VISPHI']\n",
      "7)\t OI_FLUX :\t (nB,nλ) = (1, 64) \t dataTypes = ['FLUXDATA']\n",
      "════════════════════════════════════════════════════════════════════════════════\n",
      "file 1: 2018-12-07T063809_HD45677_A0B2D0C1_IR-LM_LOW_Chop_cal_oifits_0.fits\n",
      "────────────────────────────────────────────────────────────────────────────────\n",
      "4)\t OI_VIS2 :\t (nB,nλ) = (6, 64) \t dataTypes = ['VIS2DATA']\n",
      "5)\t OI_T3   :\t (nB,nλ) = (4, 64) \t dataTypes = ['T3PHI']\n",
      "6)\t OI_VIS  :\t (nB,nλ) = (6, 64) \t dataTypes = ['VISAMP', 'VISPHI']\n",
      "7)\t OI_FLUX :\t (nB,nλ) = (1, 64) \t dataTypes = ['FLUXDATA']\n",
      "════════════════════════════════════════════════════════════════════════════════\n",
      "file 2: 2018-12-07T063809_HD45677_A0B2D0C1_IR-LM_LOW_Chop_cal_oifits_0.fits\n",
      "────────────────────────────────────────────────────────────────────────────────\n",
      "4)\t OI_VIS2 :\t (nB,nλ) = (6, 64) \t dataTypes = ['VIS2DATA']\n",
      "5)\t OI_T3   :\t (nB,nλ) = (4, 64) \t dataTypes = ['T3PHI']\n",
      "6)\t OI_VIS  :\t (nB,nλ) = (6, 64) \t dataTypes = ['VISAMP', 'VISPHI']\n",
      "7)\t OI_FLUX :\t (nB,nλ) = (1, 64) \t dataTypes = ['FLUXDATA']\n",
      "════════════════════════════════════════════════════════════════════════════════\n"
     ]
    }
   ],
   "source": [
    "data.info()"
   ]
  },
  {
   "cell_type": "code",
   "execution_count": 3,
   "id": "3e884a38-5703-4f46-9de8-9c326a9f69f2",
   "metadata": {},
   "outputs": [
    {
     "data": {
      "text/plain": [
       "3"
      ]
     },
     "execution_count": 3,
     "metadata": {},
     "output_type": "execute_result"
    }
   ],
   "source": [
    "len(data.data)"
   ]
  },
  {
   "cell_type": "code",
   "execution_count": 4,
   "id": "4d071ca3-fc71-4241-b2f5-9f37f1ae2bf6",
   "metadata": {},
   "outputs": [
    {
     "name": "stdout",
     "output_type": "stream",
     "text": [
      "Filename: C:\\travail\\GitHub\\oimodeler\\data\\FSCMa_MATISSE\\2018-12-07T063809_HD45677_A0B2D0C1_IR-LM_LOW_Chop_cal_oifits_0.fits\n",
      "No.    Name      Ver    Type      Cards   Dimensions   Format\n",
      "  0  PRIMARY       1 PrimaryHDU    1330   ()      \n",
      "  1  OI_TARGET     1 BinTableHDU     60   1R x 18C   [1I, 7A, 1D, 1D, 1E, 1D, 1D, 1D, 8A, 8A, 1D, 1D, 1D, 1D, 1E, 1E, 7A, 3A]   \n",
      "  2  OI_ARRAY      1 BinTableHDU     35   4R x 7C   [3A, 2A, 1I, 1E, 3D, 1D, 6A]   \n",
      "  3  OI_WAVELENGTH    1 BinTableHDU     20   64R x 2C   ['1E', '1E']   \n",
      "  4  OI_VIS2       1 BinTableHDU     41   6R x 10C   ['1I', '1D', '1D', '1D', '64D', '64D', '1D', '1D', '2I', '64L']   \n",
      "  5  OI_T3         1 BinTableHDU     53   4R x 14C   ['1I', '1D', '1D', '1D', '64D', '64D', '64D', '64D', '1D', '1D', '1D', '1D', '3I', '64L']   \n",
      "  6  OI_VIS        1 BinTableHDU     49   6R x 12C   ['1I', '1D', '1D', '1D', '64D', '64D', '64D', '64D', '1D', '1D', '2I', '64L']   \n",
      "  7  OI_FLUX       1 BinTableHDU     37   1R x 8C   ['I', 'D', 'D', 'D', '64D', '64D', 'I', '64L']   \n"
     ]
    }
   ],
   "source": [
    "data.data[0].info()"
   ]
  },
  {
   "cell_type": "code",
   "execution_count": 8,
   "id": "642e9c59-a858-4aa7-90e9-81614c30380f",
   "metadata": {},
   "outputs": [
    {
     "name": "stdout",
     "output_type": "stream",
     "text": [
      "(5376,)\n",
      "(5376,)\n",
      "(5376,)\n",
      "(5376,)\n"
     ]
    }
   ],
   "source": [
    "print(data.vect_u.shape)\n",
    "print(data.vect_v.shape)\n",
    "print(data.vect_wl.shape)\n",
    "print(data.vect_mjd.shape)"
   ]
  },
  {
   "cell_type": "code",
   "execution_count": 15,
   "id": "eb54119a-63cd-440a-8f6b-658cef742d7f",
   "metadata": {},
   "outputs": [
    {
     "name": "stdout",
     "output_type": "stream",
     "text": [
      "[[7, 13, 7, 1], [7, 13, 7, 1], [7, 13, 7, 1]]\n",
      "[[64, 64, 64, 64], [64, 64, 64, 64], [64, 64, 64, 64]]\n",
      "3\n"
     ]
    }
   ],
   "source": [
    "print(data.struct_nB)\n",
    "print(data.struct_nwl)"
   ]
  },
  {
   "cell_type": "code",
   "execution_count": null,
   "id": "b6ff86d7-1aaf-41c1-8d9b-df052f2ea330",
   "metadata": {},
   "outputs": [],
   "source": []
  }
 ],
 "metadata": {
  "kernelspec": {
   "display_name": "Python 3 (ipykernel)",
   "language": "python",
   "name": "python3"
  },
  "language_info": {
   "codemirror_mode": {
    "name": "ipython",
    "version": 3
   },
   "file_extension": ".py",
   "mimetype": "text/x-python",
   "name": "python",
   "nbconvert_exporter": "python",
   "pygments_lexer": "ipython3",
   "version": "3.11.5"
  }
 },
 "nbformat": 4,
 "nbformat_minor": 5
}
